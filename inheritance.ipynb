{
 "cells": [
  {
   "cell_type": "code",
   "execution_count": 3,
   "metadata": {},
   "outputs": [
    {
     "name": "stdout",
     "output_type": "stream",
     "text": [
      "Pranish Kamble\n",
      "Prakruti Sonwane\n"
     ]
    }
   ],
   "source": [
    "class person:\n",
    "    def __init__(self, fname, lname) -> None:\n",
    "        self.firstname=fname\n",
    "        self.lastname=lname\n",
    "    def myfun(self):\n",
    "        print(self.firstname, self.lastname)\n",
    "p1= person(\"Pranish\",\"Kamble\")\n",
    "p1.myfun()\n",
    "\n",
    "class student(person):\n",
    "    pass\n",
    "\n",
    "s1= student(\"Prakruti\",\"Sonwane\")\n",
    "s1.myfun()"
   ]
  },
  {
   "cell_type": "code",
   "execution_count": 8,
   "metadata": {},
   "outputs": [
    {
     "name": "stdout",
     "output_type": "stream",
     "text": [
      "Prakruti Sonwane 2016\n",
      "Welcome Prakruti Sonwane to the class of 2016\n"
     ]
    }
   ],
   "source": [
    "#super() function :\n",
    "class person:\n",
    "    def __init__(self, fname, lname) -> None:\n",
    "        self.firstname=fname\n",
    "        self.lastname=lname\n",
    "    def myfun(self):\n",
    "        print(self.firstname, self.lastname)\n",
    "# p1= person(\"Pranish\",\"Kamble\")\n",
    "# p1.myfun()\n",
    "class student(person):\n",
    "    def __init__(self, fname, lname, year) -> None:\n",
    "        super().__init__(fname, lname)\n",
    "        self.graduationyear=2016\n",
    "        \n",
    "    def welcome(self):\n",
    "           print(\"Welcome\", self.firstname, self.lastname, \"to the class of\", self.graduationyear)\n",
    "\n",
    "\n",
    "s1= student(\"Prakruti\",\"Sonwane\",2016)\n",
    "# s1.myfun()\n",
    "print(s1.firstname,s1.lastname,s1.graduationyear)\n",
    "s1.welcome()\n",
    "        "
   ]
  }
 ],
 "metadata": {
  "kernelspec": {
   "display_name": "Python 3.10.6 64-bit",
   "language": "python",
   "name": "python3"
  },
  "language_info": {
   "codemirror_mode": {
    "name": "ipython",
    "version": 3
   },
   "file_extension": ".py",
   "mimetype": "text/x-python",
   "name": "python",
   "nbconvert_exporter": "python",
   "pygments_lexer": "ipython3",
   "version": "3.10.6"
  },
  "orig_nbformat": 4,
  "vscode": {
   "interpreter": {
    "hash": "916dbcbb3f70747c44a77c7bcd40155683ae19c65e1c03b4aa3499c5328201f1"
   }
  }
 },
 "nbformat": 4,
 "nbformat_minor": 2
}
