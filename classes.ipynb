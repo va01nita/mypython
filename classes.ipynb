{
 "cells": [
  {
   "cell_type": "code",
   "execution_count": 6,
   "metadata": {},
   "outputs": [
    {
     "name": "stdout",
     "output_type": "stream",
     "text": [
      "<__main__.Myclass object at 0x7ff0c42791e0>\n"
     ]
    }
   ],
   "source": [
    "#class and _init_() method: init function is called automatically every time class being used to create new object \n",
    "class Myclass:\n",
    "        def __init__(self, name, age):\n",
    "            self.name=name\n",
    "            self.age=age\n",
    "m1=Myclass(\"pannu\",2.5)\n",
    "m2=Myclass(\"kittu\",3)\n",
    "# print(m1)\n",
    "\n",
    "print(\"name=\",m1.name)\n",
    "print(\"age=\",m1.age)\n",
    "print(\"name=\",m2.name)\n",
    "print(\"age=\",m2.age)"
   ]
  },
  {
   "cell_type": "code",
   "execution_count": 8,
   "metadata": {},
   "outputs": [
    {
     "name": "stdout",
     "output_type": "stream",
     "text": [
      "vanita,(27)\n"
     ]
    }
   ],
   "source": [
    "#_str_()\n",
    "class Person:\n",
    "    def __init__(self,name,age):\n",
    "        self.name=name\n",
    "        self.age=age\n",
    "    def __str__(self) -> str:\n",
    "        return f\"{self.name},({self.age})\"\n",
    "p1=Person(\"vanita\",27)\n",
    "print(p1)"
   ]
  },
  {
   "cell_type": "code",
   "execution_count": 9,
   "metadata": {},
   "outputs": [
    {
     "name": "stdout",
     "output_type": "stream",
     "text": [
      "my name is  bunny\n"
     ]
    }
   ],
   "source": [
    "#methods in objects are functions that belong to the object:\n",
    "class Person:\n",
    "    def __init__(self,name,age) -> None:\n",
    "        self.name=name\n",
    "        self.age=age\n",
    "\n",
    "    def my_fun(self):\n",
    "        print(\"my name is \",self.name)\n",
    "p1=Person(\"bunny\",2)\n",
    "p1.my_fun()"
   ]
  },
  {
   "cell_type": "code",
   "execution_count": 15,
   "metadata": {},
   "outputs": [
    {
     "name": "stdout",
     "output_type": "stream",
     "text": [
      "Name=Bunny\n",
      "3\n"
     ]
    }
   ],
   "source": [
    "#self objects is reference to the current instance of the class. it can be not be self anytime, we can name it anything\n",
    "#modify properties on object \n",
    "class Person:\n",
    "    def __init__(myself, name,age) -> None:\n",
    "        myself.name=name\n",
    "        myself.age=age\n",
    "    def myfun(abc):\n",
    "        print(\"Name=\"+abc.name)\n",
    "        \n",
    "p1= Person(\"Bunny\",2)\n",
    "p1.myfun()\n",
    "\n",
    "p1.age=3\n",
    "print(p1.age)\n",
    "\n",
    "del p1.age\n",
    "#print(p1.age)\n",
    "del p1"
   ]
  }
 ],
 "metadata": {
  "kernelspec": {
   "display_name": "Python 3.10.6 64-bit",
   "language": "python",
   "name": "python3"
  },
  "language_info": {
   "codemirror_mode": {
    "name": "ipython",
    "version": 3
   },
   "file_extension": ".py",
   "mimetype": "text/x-python",
   "name": "python",
   "nbconvert_exporter": "python",
   "pygments_lexer": "ipython3",
   "version": "3.10.6"
  },
  "orig_nbformat": 4,
  "vscode": {
   "interpreter": {
    "hash": "916dbcbb3f70747c44a77c7bcd40155683ae19c65e1c03b4aa3499c5328201f1"
   }
  }
 },
 "nbformat": 4,
 "nbformat_minor": 2
}
