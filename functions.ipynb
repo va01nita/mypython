{
 "cells": [
  {
   "cell_type": "code",
   "execution_count": 1,
   "metadata": {},
   "outputs": [
    {
     "name": "stdout",
     "output_type": "stream",
     "text": [
      "Hello Pranish\n"
     ]
    }
   ],
   "source": [
    "def my_fun(fname):\n",
    "    print(\"Hello \"+fname)\n",
    "my_fun(\"Pranish\")"
   ]
  },
  {
   "cell_type": "code",
   "execution_count": 2,
   "metadata": {},
   "outputs": [
    {
     "name": "stdout",
     "output_type": "stream",
     "text": [
      "Hello kaivalya\n"
     ]
    }
   ],
   "source": [
    "#arbitary arguments\n",
    "def my_fun(*kids):\n",
    "    print(\"Hello \"+kids[4])\n",
    "my_fun(\"swarit\",\"kranti\",\"prakruti\",\"pranish\",\"kaivalya\")"
   ]
  },
  {
   "cell_type": "code",
   "execution_count": 3,
   "metadata": {},
   "outputs": [
    {
     "name": "stdout",
     "output_type": "stream",
     "text": [
      "The little kid is=pranish\n"
     ]
    }
   ],
   "source": [
    "#keyword arguments\n",
    "def my_fun(c1,c2,c3):\n",
    "    print(\"The little kid is=\"+c1)\n",
    "my_fun(\"pranish\",\"kittu\",\"kranti\")"
   ]
  },
  {
   "cell_type": "code",
   "execution_count": 4,
   "metadata": {},
   "outputs": [
    {
     "name": "stdout",
     "output_type": "stream",
     "text": [
      "The last name is: kamble\n",
      "The fruits list is:\n",
      "apple\n",
      "cherry\n",
      "banana\n"
     ]
    }
   ],
   "source": [
    "#arbitary keyword arguments\n",
    "def my_fun(**kids):\n",
    "    print(\"The last name is: \"+kids[\"lname\"])\n",
    "my_fun(fname=\"pranish\", lname=\"kamble\")\n",
    "\n",
    "#passing a list as arguments\n",
    "def my_fun(food):\n",
    "    print(\"The fruits list is:\")\n",
    "    for x in food:\n",
    "        print(x)\n",
    "\n",
    "fruits=[\"apple\",\"cherry\",\"banana\"]\n",
    "my_fun(fruits)"
   ]
  },
  {
   "cell_type": "code",
   "execution_count": 4,
   "metadata": {},
   "outputs": [
    {
     "name": "stdout",
     "output_type": "stream",
     "text": [
      "15\n"
     ]
    }
   ],
   "source": [
    "def my_fun(n):\n",
    "    x=lambda a,b:a*n+b\n",
    "    print(x(2,5))\n",
    "my_fun(5)\n"
   ]
  },
  {
   "cell_type": "code",
   "execution_count": 3,
   "metadata": {},
   "outputs": [
    {
     "name": "stdout",
     "output_type": "stream",
     "text": [
      "8\n",
      "15\n"
     ]
    }
   ],
   "source": [
    "def my_fun(n):\n",
    "    return lambda a:a*n\n",
    "res=my_fun(2)\n",
    "res1=my_fun(3)\n",
    "print(res(4))\n",
    "print(res1(5))"
   ]
  },
  {
   "cell_type": "code",
   "execution_count": 1,
   "metadata": {},
   "outputs": [
    {
     "name": "stdout",
     "output_type": "stream",
     "text": [
      "['audi', 'bmw', 'Toyota']\n",
      "['audi', 'bmw', 'Toyota', 'ford']\n",
      "['audi', 'bmw', 'ford']\n",
      "['audi', 'bmw', 'ford', 'red', 'blue']\n",
      "index of bmw = 1\n",
      "[]\n"
     ]
    }
   ],
   "source": [
    "cars=[\"audi\",\"bmw\",\"volvo\"]\n",
    "colors=[\"red\",\"blue\"]\n",
    "cars[2]=\"Toyota\"\n",
    "print(cars)\n",
    "\n",
    "cars.append(\"ford\")\n",
    "print(cars)\n",
    "\n",
    "cars.pop(2)\n",
    "print(cars)\n",
    "\n",
    "cars.extend(colors)\n",
    "print(cars)\n",
    "\n",
    "a=cars.index(\"bmw\")\n",
    "print(\"index of bmw =\",a)\n",
    "\n",
    "cars.clear() \n",
    "print(cars)"
   ]
  }
 ],
 "metadata": {
  "kernelspec": {
   "display_name": "Python 3.10.6 64-bit",
   "language": "python",
   "name": "python3"
  },
  "language_info": {
   "codemirror_mode": {
    "name": "ipython",
    "version": 3
   },
   "file_extension": ".py",
   "mimetype": "text/x-python",
   "name": "python",
   "nbconvert_exporter": "python",
   "pygments_lexer": "ipython3",
   "version": "3.10.6"
  },
  "orig_nbformat": 4,
  "vscode": {
   "interpreter": {
    "hash": "916dbcbb3f70747c44a77c7bcd40155683ae19c65e1c03b4aa3499c5328201f1"
   }
  }
 },
 "nbformat": 4,
 "nbformat_minor": 2
}
