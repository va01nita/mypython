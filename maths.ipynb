{
 "cells": [
  {
   "cell_type": "code",
   "execution_count": 3,
   "metadata": {},
   "outputs": [
    {
     "name": "stdout",
     "output_type": "stream",
     "text": [
      "min= 2\n",
      "max= 46\n",
      "abs= 5.25\n",
      "4at power of 3= 64\n"
     ]
    }
   ],
   "source": [
    "x=min(3,34,5,5,2,7)\n",
    "print(\"min=\",x)\n",
    "y=max(2,5,6,9,46,2)\n",
    "print(\"max=\",y)\n",
    "z=abs(-5.25)\n",
    "print(\"abs=\",z)\n",
    "p=pow(4,3)\n",
    "print(\"4at power of 3=\",p)\n"
   ]
  },
  {
   "cell_type": "code",
   "execution_count": 7,
   "metadata": {},
   "outputs": [
    {
     "name": "stdout",
     "output_type": "stream",
     "text": [
      "square root of 256= 16.0\n",
      "round upward= 2\n",
      "round downward= 1\n",
      "value of PI= 3.141592653589793\n"
     ]
    }
   ],
   "source": [
    "import math\n",
    "print(\"square root of 256=\",math.sqrt(256))\n",
    "print(\"round upward=\",math.ceil(1.3))\n",
    "print(\"round downward=\",math.floor(1.3))\n",
    "print(\"value of PI=\",math.pi)"
   ]
  },
  {
   "cell_type": "code",
   "execution_count": 10,
   "metadata": {},
   "outputs": [
    {
     "name": "stdout",
     "output_type": "stream",
     "text": [
      "2.5\n",
      "{\"name\": \"John\", \"age\": 30}\n",
      "[\"apple\", \"bananas\"]\n",
      "[\"apple\", \"bananas\"]\n",
      "\"hello\"\n",
      "42\n",
      "31.76\n",
      "true\n",
      "false\n",
      "null\n"
     ]
    }
   ],
   "source": [
    "#JSON:\n",
    "import json\n",
    "x='{\"name\":\"panu\",\"age\":2.5,\"city\":\"abad\"}'\n",
    "y=json.loads(x)\n",
    "print(y[\"age\"])\n",
    "print(json.dumps({\"name\": \"John\", \"age\": 30}))\n",
    "print(json.dumps([\"apple\", \"bananas\"]))\n",
    "print(json.dumps((\"apple\", \"bananas\")))\n",
    "print(json.dumps(\"hello\"))\n",
    "print(json.dumps(42))\n",
    "print(json.dumps(31.76))\n",
    "print(json.dumps(True))\n",
    "print(json.dumps(False))\n",
    "print(json.dumps(None))"
   ]
  },
  {
   "cell_type": "code",
   "execution_count": 13,
   "metadata": {},
   "outputs": [
    {
     "name": "stdout",
     "output_type": "stream",
     "text": [
      "{\n",
      "  \"name\": \"John\",\n",
      "  \"age\": 30,\n",
      "  \"married\": true,\n",
      "  \"divorced\": false,\n",
      "  \"children\": [\n",
      "    \"Ann\",\n",
      "    \"Billy\"\n",
      "  ],\n",
      "  \"pets\": null,\n",
      "  \"cars\": [\n",
      "    {\n",
      "      \"model\": \"BMW 230\",\n",
      "      \"mpg\": 27.5\n",
      "    },\n",
      "    {\n",
      "      \"model\": \"Ford Edge\",\n",
      "      \"mpg\": 24.1\n",
      "    }\n",
      "  ]\n",
      "}\n"
     ]
    }
   ],
   "source": [
    "import json\n",
    "\n",
    "x = {\n",
    "  \"name\": \"John\",\n",
    "  \"age\": 30,\n",
    "  \"married\": True,\n",
    "  \"divorced\": False,\n",
    "  \"children\": (\"Ann\",\"Billy\"),\n",
    "  \"pets\": None,\n",
    "  \"cars\": [\n",
    "    {\"model\": \"BMW 230\", \"mpg\": 27.5},\n",
    "    {\"model\": \"Ford Edge\", \"mpg\": 24.1}\n",
    "  ]\n",
    "}\n",
    "\n",
    "# convert into JSON:\n",
    "y = json.dumps(x)\n",
    "#to make json readable use indantations\n",
    "y=json.dumps(x,indent=2)\n",
    "# the result is a JSON string:\n",
    "print(y)\n"
   ]
  },
  {
   "cell_type": "code",
   "execution_count": 21,
   "metadata": {},
   "outputs": [
    {
     "name": "stdout",
     "output_type": "stream",
     "text": [
      "oops!\n",
      "['ai', 'ai']\n",
      "first whitespace chaacter is located at position: 3\n",
      "None\n",
      "returns a list where string has been split at each match ['the', 'love', 'is', 'in', 'air', 'and', 'spain']\n"
     ]
    }
   ],
   "source": [
    "#RegEx: sequence of chars that forms search patterns\n",
    "import re\n",
    "txt=\"the love is in air and spain\"\n",
    "x=re.search(\"^the.*air$\",txt)\n",
    "if x:\n",
    "    print(\"Match found\")\n",
    "else:\n",
    "    print(\"oops!\")\n",
    "\n",
    "x=re.findall(\"ai\",txt)\n",
    "print(x)\n",
    "\n",
    "y=re.search(\"\\s\",txt)\n",
    "print(\"first whitespace chaacter is located at position:\",y.start())\n",
    "\n",
    "val=re.search(\"not\",txt)\n",
    "print(val)\n",
    "\n",
    "spl=re.split(\"\\s\",txt)\n",
    "print(spl)#returns a list where string has been split at each match\n"
   ]
  }
 ],
 "metadata": {
  "kernelspec": {
   "display_name": "Python 3.10.6 64-bit",
   "language": "python",
   "name": "python3"
  },
  "language_info": {
   "codemirror_mode": {
    "name": "ipython",
    "version": 3
   },
   "file_extension": ".py",
   "mimetype": "text/x-python",
   "name": "python",
   "nbconvert_exporter": "python",
   "pygments_lexer": "ipython3",
   "version": "3.10.6"
  },
  "orig_nbformat": 4,
  "vscode": {
   "interpreter": {
    "hash": "916dbcbb3f70747c44a77c7bcd40155683ae19c65e1c03b4aa3499c5328201f1"
   }
  }
 },
 "nbformat": 4,
 "nbformat_minor": 2
}
