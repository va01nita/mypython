{
 "cells": [
  {
   "cell_type": "code",
   "execution_count": 1,
   "metadata": {},
   "outputs": [
    {
     "name": "stdout",
     "output_type": "stream",
     "text": [
      "Hello Pranish\n",
      "Color=Pink\n"
     ]
    }
   ],
   "source": [
    "import modules\n",
    "\n",
    "modules.greetings(\"Pranish\")\n",
    "modules.color(\"Pink\")"
   ]
  },
  {
   "cell_type": "code",
   "execution_count": 2,
   "metadata": {},
   "outputs": [
    {
     "name": "stdout",
     "output_type": "stream",
     "text": [
      "Color=green\n"
     ]
    }
   ],
   "source": [
    "import modules as mdl\n",
    "mdl.color(\"green\")"
   ]
  },
  {
   "cell_type": "code",
   "execution_count": 8,
   "metadata": {},
   "outputs": [
    {
     "name": "stdout",
     "output_type": "stream",
     "text": [
      "pranish\n",
      "2.5 India\n"
     ]
    }
   ],
   "source": [
    "from modules import person\n",
    "print(person[\"name\"])\n",
    "print(person[\"age\"],person[\"country\"])"
   ]
  },
  {
   "cell_type": "code",
   "execution_count": 12,
   "metadata": {},
   "outputs": [
    {
     "name": "stdout",
     "output_type": "stream",
     "text": [
      "2022-11-23 21:45:09.346414\n",
      "2022\n",
      "long form:Wednesday\n",
      "short form:Wed\n",
      "weekday as 0-6:3\n",
      "day of monthas 1-31:23\n",
      "short month:Nov\n",
      "long month:November\n",
      "month as number:11\n",
      "year without century short:Wednesday\n",
      "year full version:2022\n",
      "hour 0-23:21\n",
      "hour 0-12:09\n",
      "AM/PM:PM\n",
      "minute:45\n",
      "second:09\n"
     ]
    }
   ],
   "source": [
    "#datetime\n",
    "import datetime\n",
    "x=datetime.datetime.now()\n",
    "print(x)\n",
    "print(x.year)\n",
    "print(x.strftime(\"long form weekday:%A\"))\n",
    "print(x.strftime(\"short form weekday:%a\"))\n",
    "print(x.strftime(\"weekday as 0-6:%w\"))\n",
    "print(x.strftime(\"day of monthas 1-31:%d\"))\n",
    "print(x.strftime(\"short month:%b\"))\n",
    "print(x.strftime(\"long month:%B\"))\n",
    "print(x.strftime(\"month as number:%m\"))\n",
    "print(x.strftime(\"year without century short:%y\"))\n",
    "print(x.strftime(\"year full version:%Y\"))\n",
    "print(x.strftime(\"hour 0-23:%H\"))\n",
    "print(x.strftime(\"hour 0-12:%I\"))\n",
    "print(x.strftime(\"AM/PM:%p\"))\n",
    "print(x.strftime(\"minute:%M\"))\n",
    "print(x.strftime(\"second:%S\"))"
   ]
  },
  {
   "cell_type": "code",
   "execution_count": null,
   "metadata": {},
   "outputs": [],
   "source": []
  }
 ],
 "metadata": {
  "kernelspec": {
   "display_name": "Python 3.10.6 64-bit",
   "language": "python",
   "name": "python3"
  },
  "language_info": {
   "codemirror_mode": {
    "name": "ipython",
    "version": 3
   },
   "file_extension": ".py",
   "mimetype": "text/x-python",
   "name": "python",
   "nbconvert_exporter": "python",
   "pygments_lexer": "ipython3",
   "version": "3.10.6"
  },
  "orig_nbformat": 4,
  "vscode": {
   "interpreter": {
    "hash": "916dbcbb3f70747c44a77c7bcd40155683ae19c65e1c03b4aa3499c5328201f1"
   }
  }
 },
 "nbformat": 4,
 "nbformat_minor": 2
}
